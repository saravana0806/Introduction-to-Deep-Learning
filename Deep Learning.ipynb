{
 "cells": [
  {
   "cell_type": "code",
   "execution_count": 1,
   "id": "f13cefa4",
   "metadata": {},
   "outputs": [],
   "source": [
    "import numpy as np\n"
   ]
  },
  {
   "cell_type": "code",
   "execution_count": 3,
   "id": "1b70b646",
   "metadata": {},
   "outputs": [],
   "source": [
    "def sigmoid(x):\n",
    "    return 1 / (1 + np.exp(-x))\n",
    "\n",
    "def sigmoid_derivative(x):\n",
    "    return x * (1 - x)"
   ]
  },
  {
   "cell_type": "code",
   "execution_count": 5,
   "id": "3224e4aa",
   "metadata": {},
   "outputs": [],
   "source": [
    "class NeuralNetwork:\n",
    "    def __init__(self, input_size, hidden_size, output_size):\n",
    "        self.input_size = input_size\n",
    "        self.hidden_size = hidden_size\n",
    "        self.output_size = output_size\n",
    "        \n",
    "        self.weights_input_hidden = np.random.randn(self.input_size, self.hidden_size)\n",
    "        self.biases_hidden = np.zeros((1, self.hidden_size))\n",
    "        self.weights_hidden_output = np.random.randn(self.hidden_size, self.output_size)\n",
    "        self.biases_output = np.zeros((1, self.output_size))\n",
    "        \n",
    "    def forward(self, inputs):\n",
    "        self.hidden_layer_output = sigmoid(np.dot(inputs, self.weights_input_hidden) + self.biases_hidden)\n",
    "        \n",
    "        self.output = sigmoid(np.dot(self.hidden_layer_output, self.weights_hidden_output) + self.biases_output)\n",
    "        \n",
    "        return self.output\n",
    "    \n",
    "    def backward(self, inputs, targets, learning_rate):\n",
    "        output_error = targets - self.output\n",
    "        output_delta = output_error * sigmoid_derivative(self.output)\n",
    "        \n",
    "        hidden_error = np.dot(output_delta, self.weights_hidden_output.T)\n",
    "        hidden_delta = hidden_error * sigmoid_derivative(self.hidden_layer_output)\n",
    "        \n",
    "        self.weights_hidden_output += np.dot(self.hidden_layer_output.T, output_delta) * learning_rate\n",
    "        self.biases_output += np.sum(output_delta, axis=0, keepdims=True) * learning_rate\n",
    "        self.weights_input_hidden += np.dot(inputs.T, hidden_delta) * learning_rate\n",
    "        self.biases_hidden += np.sum(hidden_delta, axis=0, keepdims=True) * learning_rate\n"
   ]
  },
  {
   "cell_type": "code",
   "execution_count": 6,
   "id": "2cf37c89",
   "metadata": {},
   "outputs": [
    {
     "name": "stdout",
     "output_type": "stream",
     "text": [
      "Predictions after training:\n",
      "[[0.04925951]\n",
      " [0.95187032]\n",
      " [0.94903142]\n",
      " [0.04334755]]\n"
     ]
    }
   ],
   "source": [
    "input_size = 2\n",
    "hidden_size = 3\n",
    "output_size = 1\n",
    "\n",
    "nn = NeuralNetwork(input_size, hidden_size, output_size)\n",
    "\n",
    "X = np.array([[0, 0], [0, 1], [1, 0], [1, 1]])\n",
    "y = np.array([[0], [1], [1], [0]])\n",
    "\n",
    "epochs = 10000\n",
    "learning_rate = 0.1\n",
    "for epoch in range(epochs):\n",
    "    nn.forward(X)\n",
    "    nn.backward(X, y, learning_rate)\n",
    "\n",
    "print(\"Predictions after training:\")\n",
    "print(nn.forward(X))"
   ]
  },
  {
   "cell_type": "code",
   "execution_count": null,
   "id": "febedfe2",
   "metadata": {},
   "outputs": [],
   "source": []
  },
  {
   "cell_type": "code",
   "execution_count": null,
   "id": "f3faa117",
   "metadata": {},
   "outputs": [],
   "source": []
  },
  {
   "cell_type": "code",
   "execution_count": null,
   "id": "6524785a",
   "metadata": {},
   "outputs": [],
   "source": []
  }
 ],
 "metadata": {
  "kernelspec": {
   "display_name": "Python 3 (ipykernel)",
   "language": "python",
   "name": "python3"
  },
  "language_info": {
   "codemirror_mode": {
    "name": "ipython",
    "version": 3
   },
   "file_extension": ".py",
   "mimetype": "text/x-python",
   "name": "python",
   "nbconvert_exporter": "python",
   "pygments_lexer": "ipython3",
   "version": "3.11.5"
  }
 },
 "nbformat": 4,
 "nbformat_minor": 5
}
